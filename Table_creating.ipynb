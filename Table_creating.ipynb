{
 "cells": [
  {
   "cell_type": "code",
   "execution_count": 14,
   "metadata": {},
   "outputs": [],
   "source": [
    "import tabulate\n",
    "import yaml\n",
    "import pandas as pd\n",
    "import ast\n",
    "from util import *\n",
    "from sklearn.metrics import f1_score, accuracy_score, precision_score, recall_score\n",
    "import warnings\n",
    "warnings.filterwarnings(\"ignore\")"
   ]
  },
  {
   "cell_type": "code",
   "execution_count": 15,
   "metadata": {},
   "outputs": [],
   "source": [
    "data = pd.read_csv(\"data_with_ff.csv\")"
   ]
  },
  {
   "cell_type": "code",
   "execution_count": 16,
   "metadata": {},
   "outputs": [],
   "source": [
    "sys_cl_and_ff = data.form_factor.unique()"
   ]
  },
  {
   "cell_type": "code",
   "execution_count": 17,
   "metadata": {},
   "outputs": [
    {
     "data": {
      "text/plain": [
       "array([\"{'diffuse': {'guinier_porod'}}\", \"{'diffuse': {'spherical'}}\",\n",
       "       \"{'diffuse': {'spherical', 'guinier_porod'}}\",\n",
       "       \"{'diffuse': {'spherical', 'guinier_porod'}, 'disordered': {'spherical'}}\",\n",
       "       \"{'unidentified': set()}\",\n",
       "       \"{'diffuse': {'spherical'}, 'disordered': {'spherical'}}\",\n",
       "       \"{'diffuse': {'guinier_porod'}, 'disordered': {'guinier_porod'}}\"],\n",
       "      dtype=object)"
      ]
     },
     "execution_count": 17,
     "metadata": {},
     "output_type": "execute_result"
    }
   ],
   "source": [
    "sys_cl_and_ff"
   ]
  },
  {
   "cell_type": "code",
   "execution_count": 18,
   "metadata": {},
   "outputs": [],
   "source": [
    "sys_cl_and_ff = [a for a in sys_cl_and_ff if \"unidentified\" not in a]"
   ]
  },
  {
   "cell_type": "code",
   "execution_count": 19,
   "metadata": {},
   "outputs": [],
   "source": [
    "table = []\n",
    "table.append([None, None, 'Cls M', None, None, None, None,\"Regr M\", None])\n",
    "table.append(['Sys Cl', \"Form\", 'Pr', 'Rec', 'Accur', 'F1',\"Regr Par\", 'MAE', 'R^2', '# samp'])"
   ]
  },
  {
   "cell_type": "code",
   "execution_count": 20,
   "metadata": {},
   "outputs": [
    {
     "name": "stdout",
     "output_type": "stream",
     "text": [
      "╒════════╤══════╤═══════╤═════╤═══════╤════╤══════════╤════════╤═════╤════════╕\n",
      "│        │      │ Cls M │     │       │    │          │ Regr M │     │        │\n",
      "├────────┼──────┼───────┼─────┼───────┼────┼──────────┼────────┼─────┼────────┤\n",
      "│ Sys Cl │ Form │ Pr    │ Rec │ Accur │ F1 │ Regr Par │ MAE    │ R^2 │ # samp │\n",
      "╘════════╧══════╧═══════╧═════╧═══════╧════╧══════════╧════════╧═════╧════════╛\n"
     ]
    }
   ],
   "source": [
    "print(tabulate.tabulate(table,tablefmt=\"fancy_grid\"))"
   ]
  },
  {
   "cell_type": "code",
   "execution_count": 21,
   "metadata": {},
   "outputs": [],
   "source": [
    "yml_path = '../xrsdkit_modeling/flowreactor_pd_nanoparticles/models/training_summary.yml'\n",
    "with open(yml_path, 'r') as stream:\n",
    "        summary_loaded = yaml.load(stream)"
   ]
  },
  {
   "cell_type": "code",
   "execution_count": 22,
   "metadata": {},
   "outputs": [],
   "source": [
    "regrs = summary_loaded['REGRESSORS']"
   ]
  },
  {
   "cell_type": "code",
   "execution_count": 23,
   "metadata": {},
   "outputs": [],
   "source": [
    "for cl_ff in sys_cl_and_ff:\n",
    "    related_data = data[(data['form_factor'] == cl_ff) | (data['form_factor_pr'] == cl_ff)]\n",
    "    y_true = related_data.form_factor.to_list()\n",
    "    y_pr = related_data.form_factor_pr.to_list()\n",
    "    cl_ff_tr = [1 if a == cl_ff else 0 for a in y_true ]\n",
    "    n_samples = sum(cl_ff_tr)\n",
    "    cl_ff_pr = [1 if a == cl_ff else 0 for a in y_pr ]\n",
    "    pr = round(precision_score(cl_ff_tr, cl_ff_pr),2)\n",
    "    rec = round(recall_score(cl_ff_tr, cl_ff_pr),2)\n",
    "    acc = round(accuracy_score(cl_ff_tr, cl_ff_pr),2)\n",
    "    f1 = round(f1_score(cl_ff_tr, cl_ff_pr),2)\n",
    "    \n",
    "    cl_ff_d = ast.literal_eval(cl_ff)\n",
    "    i_p = 0\n",
    "    s_cl = ''\n",
    "    s_cl_show = ''\n",
    "    forms = []\n",
    "    for k,v in cl_ff_d.items():\n",
    "        n = len(v)\n",
    "        for i in range(n):\n",
    "            s_cl_show += 'Pop {} : '.format(i_p)\n",
    "            s_cl+=k\n",
    "            s_cl_show +=k\n",
    "            s_cl+=\"__\"\n",
    "            s_cl_show+=\"\\n\"\n",
    "            i_p+=1\n",
    "        for f in v:\n",
    "            forms.append(f)\n",
    "        \n",
    "    s_cl= s_cl[ : -2]\n",
    "    \n",
    "    forms_str = \"\\n\".join(forms)\n",
    "    \n",
    "    reg_params = []\n",
    "    maes = []\n",
    "    r2s = []\n",
    "    \n",
    "    strs = s_cl.split(\"__\")\n",
    "    rm = regrs[s_cl]\n",
    "    for i in range(len(forms)):\n",
    "        st = strs[i]\n",
    "        form = forms[i]\n",
    "        regrs[s_cl]\n",
    "        # find the pop with coresponding structure and form:\n",
    "        for k,v in rm.items():\n",
    "            if form == 'guinier_porod':\n",
    "                if 'pop' in k and form in v.keys():\n",
    "                    pop_number = int(k[-1])\n",
    "                    if st == strs[pop_number]:\n",
    "                        reg_params.append('rg')\n",
    "                        try:\n",
    "                            maes.append(str(round(v[form]['rg']['scores']['MAE'],2)))\n",
    "                            r2s.append(str(round(v[form]['rg']['scores']['coef_of_determination'],2)))\n",
    "                        except:\n",
    "                            maes.append(\"-\")\n",
    "                            r2s.append(\"-\")\n",
    "            elif form == 'spherical':\n",
    "                if 'pop' in k and form in v.keys():\n",
    "                    pop_number = int(k[-1])\n",
    "                    if st == strs[pop_number]:\n",
    "                        reg_params.append('r')\n",
    "                        reg_params.append('sigma')\n",
    "                        try:\n",
    "                            maes.append(str(round(v[form]['r']['scores']['MAE'],2)))\n",
    "                            r2s.append(str(round(v[form]['r']['scores']['coef_of_determination'],2)))\n",
    "                            maes.append(str(round(v[form]['distribution']['r_normal']['sigma']['scores']['MAE'],2)))\n",
    "                            r2s.append(str(round(v[form]['distribution']['r_normal']['sigma']['scores']['coef_of_determination'],2)))\n",
    "                        except:\n",
    "                            maes.append(\"-\")\n",
    "                            r2s.append(\"-\")\n",
    "                            maes.append(\"-\")\n",
    "                            r2s.append(\"-\")\n",
    "            #else:\n",
    "                # add support for crystalline\n",
    "    reg_params = \"\\n\".join(reg_params)\n",
    "    maes = \"\\n\".join(maes)\n",
    "    r2s = \"\\n\".join(r2s)\n",
    "    table.append([s_cl_show,forms_str, pr, rec, acc, f1, reg_params, maes, r2s, n_samples])"
   ]
  },
  {
   "cell_type": "code",
   "execution_count": 24,
   "metadata": {},
   "outputs": [
    {
     "name": "stdout",
     "output_type": "stream",
     "text": [
      "╒════════════════════╤═══════════════╤═══════╤══════╤═══════╤══════╤══════════╤════════╤══════╤════════╕\n",
      "│                    │               │ Cls M │      │       │      │          │ Regr M │      │        │\n",
      "├────────────────────┼───────────────┼───────┼──────┼───────┼──────┼──────────┼────────┼──────┼────────┤\n",
      "│ Sys Cl             │ Form          │ Pr    │ Rec  │ Accur │ F1   │ Regr Par │ MAE    │ R^2  │ # samp │\n",
      "├────────────────────┼───────────────┼───────┼──────┼───────┼──────┼──────────┼────────┼──────┼────────┤\n",
      "│ Pop 0 : diffuse    │ guinier_porod │ 0.87  │ 0.71 │ 0.65  │ 0.78 │ rg       │ 0.23   │ 0.9  │ 28     │\n",
      "├────────────────────┼───────────────┼───────┼──────┼───────┼──────┼──────────┼────────┼──────┼────────┤\n",
      "│ Pop 0 : diffuse    │ spherical     │ 1.0   │ 0.11 │ 0.11  │ 0.2  │ r        │ 0.24   │ 0.88 │ 45     │\n",
      "│                    │               │       │      │       │      │ sigma    │ 0.56   │ 0.41 │        │\n",
      "├────────────────────┼───────────────┼───────┼──────┼───────┼──────┼──────────┼────────┼──────┼────────┤\n",
      "│ Pop 0 : diffuse    │ guinier_porod │ 0.76  │ 1.0  │ 0.76  │ 0.86 │ rg       │ 0.74   │ 0.1  │ 147    │\n",
      "│ Pop 1 : diffuse    │ spherical     │       │      │       │      │ r        │ 0.26   │ 0.82 │        │\n",
      "│                    │               │       │      │       │      │ sigma    │ 0.4    │ 0.56 │        │\n",
      "├────────────────────┼───────────────┼───────┼──────┼───────┼──────┼──────────┼────────┼──────┼────────┤\n",
      "│ Pop 0 : diffuse    │ guinier_porod │ 0.92  │ 0.79 │ 0.74  │ 0.85 │ rg       │ 0.64   │ 0.28 │ 29     │\n",
      "│ Pop 1 : diffuse    │ spherical     │       │      │       │      │ r        │ 0.58   │ 0.36 │        │\n",
      "│ Pop 2 : disordered │ spherical     │       │      │       │      │ sigma    │ 0.68   │ 0.38 │        │\n",
      "│                    │               │       │      │       │      │ r        │ 0.77   │ 0.04 │        │\n",
      "│                    │               │       │      │       │      │ sigma    │ 0.66   │ 0.18 │        │\n",
      "├────────────────────┼───────────────┼───────┼──────┼───────┼──────┼──────────┼────────┼──────┼────────┤\n",
      "│ Pop 0 : diffuse    │ spherical     │ 0.62  │ 0.83 │ 0.56  │ 0.71 │ r        │ -      │ -    │ 6      │\n",
      "│ Pop 1 : disordered │ spherical     │       │      │       │      │ sigma    │ -      │ -    │        │\n",
      "│                    │               │       │      │       │      │ r        │ -      │ -    │        │\n",
      "│                    │               │       │      │       │      │ sigma    │ -      │ -    │        │\n",
      "├────────────────────┼───────────────┼───────┼──────┼───────┼──────┼──────────┼────────┼──────┼────────┤\n",
      "│ Pop 0 : diffuse    │ guinier_porod │ 0.0   │ 0.0  │ 0.0   │ 0.0  │ rg       │ -      │ -    │ 1      │\n",
      "│ Pop 1 : disordered │ guinier_porod │       │      │       │      │ rg       │ -      │ -    │        │\n",
      "╘════════════════════╧═══════════════╧═══════╧══════╧═══════╧══════╧══════════╧════════╧══════╧════════╛\n"
     ]
    }
   ],
   "source": [
    "print(tabulate.tabulate(table,tablefmt=\"fancy_grid\"))"
   ]
  },
  {
   "cell_type": "code",
   "execution_count": 12,
   "metadata": {},
   "outputs": [],
   "source": [
    "with open('table.txt', 'w') as outputfile:\n",
    "    outputfile.write(tabulate.tabulate(table,tablefmt=\"fancy_grid\"))"
   ]
  },
  {
   "cell_type": "code",
   "execution_count": 13,
   "metadata": {},
   "outputs": [],
   "source": [
    "tabulate.LATEX_ESCAPE_RULES={}\n",
    "with open('table_latex.tex', 'w') as outputfile:\n",
    "    outputfile.write(tabulate.tabulate(table,tablefmt=\"latex_raw\"))"
   ]
  },
  {
   "cell_type": "code",
   "execution_count": null,
   "metadata": {},
   "outputs": [],
   "source": []
  }
 ],
 "metadata": {
  "kernelspec": {
   "display_name": "Python 3",
   "language": "python",
   "name": "python3"
  },
  "language_info": {
   "codemirror_mode": {
    "name": "ipython",
    "version": 3
   },
   "file_extension": ".py",
   "mimetype": "text/x-python",
   "name": "python",
   "nbconvert_exporter": "python",
   "pygments_lexer": "ipython3",
   "version": "3.6.8"
  }
 },
 "nbformat": 4,
 "nbformat_minor": 2
}
